{
 "cells": [
  {
   "cell_type": "code",
   "execution_count": 1,
   "id": "84b73067-7a33-4bd7-a56c-5fcc133a1a94",
   "metadata": {},
   "outputs": [],
   "source": [
    "from scraper import Scraper as BoxscoreScraper"
   ]
  },
  {
   "cell_type": "code",
   "execution_count": 2,
   "id": "860bb20c-1738-41a7-b322-db3c172e8b22",
   "metadata": {},
   "outputs": [],
   "source": [
    "scraper = BoxscoreScraper(year=2023)"
   ]
  },
  {
   "cell_type": "code",
   "execution_count": 3,
   "id": "187b0177-33fa-4f11-8f39-510a41216ce5",
   "metadata": {},
   "outputs": [
    {
     "name": "stdout",
     "output_type": "stream",
     "text": [
      "Beginning scraping for 2023-2024 season\n",
      "\n"
     ]
    },
    {
     "data": {
      "application/vnd.jupyter.widget-view+json": {
       "model_id": "ef52a66135fa44dc8c5766453314417f",
       "version_major": 2,
       "version_minor": 0
      },
      "text/plain": [
       "  0%|          | 0/1 [00:00<?, ?it/s]"
      ]
     },
     "metadata": {},
     "output_type": "display_data"
    },
    {
     "name": "stdout",
     "output_type": "stream",
     "text": [
      "Scraping boxscores for Week 1\n",
      "Succesfully scraped boxscores for Week 1\n",
      "\n"
     ]
    }
   ],
   "source": [
    "scraper.get_season_boxscores()"
   ]
  },
  {
   "cell_type": "code",
   "execution_count": 5,
   "id": "ee6924a4-547f-4d97-87d1-ada3a44b5177",
   "metadata": {},
   "outputs": [],
   "source": [
    "from filing import Filing\n",
    "\n",
    "import pandas as pd\n",
    "class Cleaning:\n",
    "\n",
    "    def __init__(self, **kwargs):\n",
    "        \"\"\"\n",
    "        This class will contain the functionality to combine, clean, wrangle, and partition all the boxscores\n",
    "        \"\"\"\n",
    "\n",
    "        self.year: int = int(kwargs.get('year', 2023))\n",
    "        self.season: str = f'{self.year}-{self.year+1}'\n",
    "\n",
    "        # Initialize filing object\n",
    "        self.filing = Filing(self.season)\n",
    "\n",
    "        # ppr_coeff = 0.5 if kwargs.get('hppr', False) else 1.0      \n",
    "        self.raw: pd.DataFrame = (self.filing.combined()\n",
    "                                  # .assign(fpts=lambda df: 0.04*df.pass_yds + 4.0*df.pass_td - 1.0*df.pass_int + 0.1*df.rush_yds + 6.0*df.rush_td + ppr_coeff*df.rec + 0.1*df.rec_yds + 6.0*df.rec_td - 1.0*df.fumbles_lost)\n",
    "                                 )\n",
    "        self.positions: pd.DataFrame = self.filing.positions()\n",
    "\n"
   ]
  },
  {
   "cell_type": "code",
   "execution_count": 30,
   "id": "abc13c7a-a90a-4784-8262-ed7191809bf2",
   "metadata": {},
   "outputs": [],
   "source": [
    "cleaning = Cleaning(year=2022)"
   ]
  },
  {
   "cell_type": "code",
   "execution_count": 31,
   "id": "3ae70c8e-b4e7-4b48-aa45-6ba0657ac18b",
   "metadata": {},
   "outputs": [],
   "source": [
    "df = cleaning.raw"
   ]
  },
  {
   "cell_type": "code",
   "execution_count": 32,
   "id": "859d604e-012a-42f6-957c-3d9aecc6625e",
   "metadata": {},
   "outputs": [
    {
     "name": "stdout",
     "output_type": "stream",
     "text": [
      "<class 'pandas.core.frame.DataFrame'>\n",
      "RangeIndex: 5382 entries, 0 to 5381\n",
      "Data columns (total 32 columns):\n",
      " #   Column           Non-Null Count  Dtype  \n",
      "---  ------           --------------  -----  \n",
      " 0   name             5382 non-null   object \n",
      " 1   team             5382 non-null   object \n",
      " 2   pass_cmp         5382 non-null   int64  \n",
      " 3   pass_att         5382 non-null   int64  \n",
      " 4   pass_yds         5382 non-null   int64  \n",
      " 5   pass_td          5382 non-null   int64  \n",
      " 6   pass_int         5382 non-null   int64  \n",
      " 7   pass_sacked      5382 non-null   int64  \n",
      " 8   pass_sacked_yds  5382 non-null   int64  \n",
      " 9   pass_long        5382 non-null   int64  \n",
      " 10  pass_rating      5382 non-null   float64\n",
      " 11  rush_att         5382 non-null   int64  \n",
      " 12  rush_yds         5382 non-null   int64  \n",
      " 13  rush_td          5382 non-null   int64  \n",
      " 14  rush_long        5382 non-null   int64  \n",
      " 15  targets          5382 non-null   int64  \n",
      " 16  rec              5382 non-null   int64  \n",
      " 17  rec_yds          5382 non-null   int64  \n",
      " 18  rec_td           5382 non-null   int64  \n",
      " 19  rec_long         5382 non-null   int64  \n",
      " 20  fumbles          5382 non-null   int64  \n",
      " 21  fumbles_lost     5382 non-null   int64  \n",
      " 22  opp              5382 non-null   object \n",
      " 23  home             5382 non-null   int64  \n",
      " 24  score            5382 non-null   int64  \n",
      " 25  opp_score        5382 non-null   int64  \n",
      " 26  winner           5382 non-null   int64  \n",
      " 27  spread           5382 non-null   int64  \n",
      " 28  total            5382 non-null   int64  \n",
      " 29  week             5382 non-null   int64  \n",
      " 30  pos              5382 non-null   object \n",
      " 31  fpts             5382 non-null   float64\n",
      "dtypes: float64(2), int64(26), object(4)\n",
      "memory usage: 1.3+ MB\n"
     ]
    }
   ],
   "source": [
    "df.info()"
   ]
  },
  {
   "cell_type": "code",
   "execution_count": 33,
   "id": "418e596b-cd2d-4fb3-9854-70d12e3803b8",
   "metadata": {},
   "outputs": [],
   "source": [
    "# Need to figure out how to classify position depth --> May run into issues with injuries"
   ]
  },
  {
   "cell_type": "code",
   "execution_count": 34,
   "id": "9fdeb0a9-41e9-4aac-885a-fee1170bf203",
   "metadata": {},
   "outputs": [
    {
     "data": {
      "text/plain": [
       "<Axes: >"
      ]
     },
     "execution_count": 34,
     "metadata": {},
     "output_type": "execute_result"
    },
    {
     "data": {
      "image/png": "[encoded data removed]",
      "text/plain": [
       "<Figure size 2000x1000 with 1 Axes>"
      ]
     },
     "metadata": {},
     "output_type": "display_data"
    }
   ],
   "source": [
    "df['total'].hist(figsize=(20,10), bins=20)"
   ]
  },
  {
   "cell_type": "code",
   "execution_count": null,
   "id": "9d68f625-a980-4bce-9fa6-0a6e3ca0eb9b",
   "metadata": {},
   "outputs": [],
   "source": []
  },
  {
   "cell_type": "code",
   "execution_count": 35,
   "id": "ecd561e5-c9ab-444b-8f3d-bd2c7f6d7160",
   "metadata": {},
   "outputs": [],
   "source": [
    "import numpy as np\n",
    "import scipy.stats as stats\n",
    "\n",
    "import itertools"
   ]
  },
  {
   "cell_type": "code",
   "execution_count": 36,
   "id": "e8750de6-629b-46bd-bad9-6f79243bdbf9",
   "metadata": {},
   "outputs": [],
   "source": [
    "\n",
    "team_cores = {\n",
    "    'MIN': [\n",
    "        'Tyreek Hill',\n",
    "        'Tua Tagovailoa',\n",
    "        'Jaylen Waddle',\n",
    "        'Raheem Mostert'\n",
    "        \n",
    "    ],\n",
    "\n",
    "    'NE': [\n",
    "        'Mac Jones',\n",
    "        'Rhamondre Stevenson',\n",
    "        'Kendrick Bourne',\n",
    "        # 'JuJu Smith-Schuster'\n",
    "        'DeVante Parker'\n",
    "\n",
    "    ]\n",
    "}\n",
    "team_dfs = {\n",
    "    team: df.loc[(df['team'] == team) & (df['name'].isin(core)) & (df['fpts'] > 0.0)] \n",
    "    for team, core in team_cores.items()\n",
    "}"
   ]
  },
  {
   "cell_type": "code",
   "execution_count": 37,
   "id": "d3326558-e153-4fbd-b510-82a5ce3f3e73",
   "metadata": {},
   "outputs": [],
   "source": [
    "# Get the games core players have played in together\n",
    "# Example: If AJ Brown is missing, DeVonta Smith might have a much better game than usual and will skew results OR\n",
    "# he might have a much worse game since a better corner is most likely guarding him\n",
    "team_core_together_weeks = {\n",
    "    team: tuple(team_df\n",
    "                .groupby('week')\n",
    "                ['week']\n",
    "                .agg(['count'])\n",
    "                .pipe(lambda df_: df_.loc[df_['count'] == len(team_cores[team])])\n",
    "                .index\n",
    "               )\n",
    "    for team, team_df in team_dfs.items()\n",
    "}"
   ]
  },
  {
   "cell_type": "code",
   "execution_count": 38,
   "id": "325a1e08-7ab9-4120-a141-ef790145a2af",
   "metadata": {},
   "outputs": [],
   "source": [
    "team_core_fpts = {\n",
    "    team: {\n",
    "        name: [ (team_df.loc[(team_df['name'] == name) & (team_df['week'] == week ), 'fpts'].item()) for week in team_core_together_weeks[team] ]\n",
    "        for name in team_cores[team]\n",
    "    }\n",
    "\n",
    "    for team, team_df in team_dfs.items()\n",
    "}"
   ]
  },
  {
   "cell_type": "code",
   "execution_count": 39,
   "id": "f7ac0084-8f0f-48c1-8113-6dd90e1bd5ac",
   "metadata": {},
   "outputs": [],
   "source": [
    "agg_stats = ['mean']"
   ]
  },
  {
   "cell_type": "code",
   "execution_count": 40,
   "id": "4610b620-9e4b-4fa9-9cd2-5b52e981c4c3",
   "metadata": {},
   "outputs": [
    {
     "ename": "ValueError",
     "evalue": "x and y must have length at least 2.",
     "output_type": "error",
     "traceback": [
      "\u001b[0;31m---------------------------------------------------------------------------\u001b[0m",
      "\u001b[0;31mValueError\u001b[0m                                Traceback (most recent call last)",
      "\u001b[0;32m/tmp/ipykernel_41944/1855711156.py\u001b[0m in \u001b[0;36m?\u001b[0;34m()\u001b[0m\n\u001b[0;32m----> 1\u001b[0;31m team_combo_corrs = {\n\u001b[0m\u001b[1;32m      2\u001b[0m     team: dict(sorted({\n\u001b[1;32m      3\u001b[0m         \u001b[0mcombo\u001b[0m\u001b[0;34m:\u001b[0m \u001b[0mround\u001b[0m\u001b[0;34m(\u001b[0m\u001b[0mstats\u001b[0m\u001b[0;34m.\u001b[0m\u001b[0mpearsonr\u001b[0m\u001b[0;34m(\u001b[0m\u001b[0mcore_fpts\u001b[0m\u001b[0;34m[\u001b[0m\u001b[0mcombo\u001b[0m\u001b[0;34m[\u001b[0m\u001b[0;36m0\u001b[0m\u001b[0;34m]\u001b[0m\u001b[0;34m]\u001b[0m\u001b[0;34m,\u001b[0m \u001b[0mcore_fpts\u001b[0m\u001b[0;34m[\u001b[0m\u001b[0mcombo\u001b[0m\u001b[0;34m[\u001b[0m\u001b[0;36m1\u001b[0m\u001b[0;34m]\u001b[0m\u001b[0;34m]\u001b[0m\u001b[0;34m)\u001b[0m\u001b[0;34m[\u001b[0m\u001b[0;36m0\u001b[0m\u001b[0;34m]\u001b[0m\u001b[0;34m,\u001b[0m\u001b[0;36m3\u001b[0m\u001b[0;34m)\u001b[0m\u001b[0;34m\u001b[0m\u001b[0;34m\u001b[0m\u001b[0m\n\u001b[1;32m      4\u001b[0m         \u001b[0;32mfor\u001b[0m \u001b[0mcombo\u001b[0m \u001b[0;32min\u001b[0m \u001b[0mitertools\u001b[0m\u001b[0;34m.\u001b[0m\u001b[0mcombinations\u001b[0m\u001b[0;34m(\u001b[0m\u001b[0mteam_cores\u001b[0m\u001b[0;34m[\u001b[0m\u001b[0mteam\u001b[0m\u001b[0;34m]\u001b[0m\u001b[0;34m,\u001b[0m \u001b[0;36m2\u001b[0m\u001b[0;34m)\u001b[0m\u001b[0;34m\u001b[0m\u001b[0;34m\u001b[0m\u001b[0m\n",
      "\u001b[0;32m/tmp/ipykernel_41944/1855711156.py\u001b[0m in \u001b[0;36m?\u001b[0;34m(.0)\u001b[0m\n\u001b[1;32m      1\u001b[0m team_combo_corrs = {\n\u001b[0;32m----> 2\u001b[0;31m     team: dict(sorted({\n\u001b[0m\u001b[1;32m      3\u001b[0m         \u001b[0mcombo\u001b[0m\u001b[0;34m:\u001b[0m \u001b[0mround\u001b[0m\u001b[0;34m(\u001b[0m\u001b[0mstats\u001b[0m\u001b[0;34m.\u001b[0m\u001b[0mpearsonr\u001b[0m\u001b[0;34m(\u001b[0m\u001b[0mcore_fpts\u001b[0m\u001b[0;34m[\u001b[0m\u001b[0mcombo\u001b[0m\u001b[0;34m[\u001b[0m\u001b[0;36m0\u001b[0m\u001b[0;34m]\u001b[0m\u001b[0;34m]\u001b[0m\u001b[0;34m,\u001b[0m \u001b[0mcore_fpts\u001b[0m\u001b[0;34m[\u001b[0m\u001b[0mcombo\u001b[0m\u001b[0;34m[\u001b[0m\u001b[0;36m1\u001b[0m\u001b[0;34m]\u001b[0m\u001b[0;34m]\u001b[0m\u001b[0;34m)\u001b[0m\u001b[0;34m[\u001b[0m\u001b[0;36m0\u001b[0m\u001b[0;34m]\u001b[0m\u001b[0;34m,\u001b[0m\u001b[0;36m3\u001b[0m\u001b[0;34m)\u001b[0m\u001b[0;34m\u001b[0m\u001b[0;34m\u001b[0m\u001b[0m\n\u001b[1;32m      4\u001b[0m         \u001b[0;32mfor\u001b[0m \u001b[0mcombo\u001b[0m \u001b[0;32min\u001b[0m \u001b[0mitertools\u001b[0m\u001b[0;34m.\u001b[0m\u001b[0mcombinations\u001b[0m\u001b[0;34m(\u001b[0m\u001b[0mteam_cores\u001b[0m\u001b[0;34m[\u001b[0m\u001b[0mteam\u001b[0m\u001b[0;34m]\u001b[0m\u001b[0;34m,\u001b[0m \u001b[0;36m2\u001b[0m\u001b[0;34m)\u001b[0m\u001b[0;34m\u001b[0m\u001b[0;34m\u001b[0m\u001b[0m\n\u001b[1;32m      5\u001b[0m     }.items(), key=lambda item: item[1], reverse=True))\n",
      "\u001b[0;32m/tmp/ipykernel_41944/1855711156.py\u001b[0m in \u001b[0;36m?\u001b[0;34m(.0)\u001b[0m\n\u001b[1;32m      2\u001b[0m team_combo_corrs = {\n\u001b[0;32m----> 3\u001b[0;31m     team: dict(sorted({\n\u001b[0m\u001b[1;32m      4\u001b[0m         \u001b[0mcombo\u001b[0m\u001b[0;34m:\u001b[0m \u001b[0mround\u001b[0m\u001b[0;34m(\u001b[0m\u001b[0mstats\u001b[0m\u001b[0;34m.\u001b[0m\u001b[0mpearsonr\u001b[0m\u001b[0;34m(\u001b[0m\u001b[0mcore_fpts\u001b[0m\u001b[0;34m[\u001b[0m\u001b[0mcombo\u001b[0m\u001b[0;34m[\u001b[0m\u001b[0;36m0\u001b[0m\u001b[0;34m]\u001b[0m\u001b[0;34m]\u001b[0m\u001b[0;34m,\u001b[0m \u001b[0mcore_fpts\u001b[0m\u001b[0;34m[\u001b[0m\u001b[0mcombo\u001b[0m\u001b[0;34m[\u001b[0m\u001b[0;36m1\u001b[0m\u001b[0;34m]\u001b[0m\u001b[0;34m]\u001b[0m\u001b[0;34m)\u001b[0m\u001b[0;34m[\u001b[0m\u001b[0;36m0\u001b[0m\u001b[0;34m]\u001b[0m\u001b[0;34m,\u001b[0m\u001b[0;36m3\u001b[0m\u001b[0;34m)\u001b[0m\u001b[0;34m\u001b[0m\u001b[0;34m\u001b[0m\u001b[0m\n\u001b[1;32m      5\u001b[0m         \u001b[0;32mfor\u001b[0m \u001b[0mcombo\u001b[0m \u001b[0;32min\u001b[0m \u001b[0mitertools\u001b[0m\u001b[0;34m.\u001b[0m\u001b[0mcombinations\u001b[0m\u001b[0;34m(\u001b[0m\u001b[0mteam_cores\u001b[0m\u001b[0;34m[\u001b[0m\u001b[0mteam\u001b[0m\u001b[0;34m]\u001b[0m\u001b[0;34m,\u001b[0m \u001b[0;36m2\u001b[0m\u001b[0;34m)\u001b[0m\u001b[0;34m\u001b[0m\u001b[0;34m\u001b[0m\u001b[0m\n\u001b[1;32m      6\u001b[0m     }.items(), key=lambda item: item[1], reverse=True))\n",
      "\u001b[0;32m/usr/lib/python3.11/site-packages/scipy/stats/_stats_py.py\u001b[0m in \u001b[0;36m?\u001b[0;34m(x, y, alternative, method)\u001b[0m\n\u001b[1;32m   4764\u001b[0m     \u001b[0;32mif\u001b[0m \u001b[0mn\u001b[0m \u001b[0;34m!=\u001b[0m \u001b[0mlen\u001b[0m\u001b[0;34m(\u001b[0m\u001b[0my\u001b[0m\u001b[0;34m)\u001b[0m\u001b[0;34m:\u001b[0m\u001b[0;34m\u001b[0m\u001b[0;34m\u001b[0m\u001b[0m\n\u001b[1;32m   4765\u001b[0m         \u001b[0;32mraise\u001b[0m \u001b[0mValueError\u001b[0m\u001b[0;34m(\u001b[0m\u001b[0;34m'x and y must have the same length.'\u001b[0m\u001b[0;34m)\u001b[0m\u001b[0;34m\u001b[0m\u001b[0;34m\u001b[0m\u001b[0m\n\u001b[1;32m   4766\u001b[0m \u001b[0;34m\u001b[0m\u001b[0m\n\u001b[1;32m   4767\u001b[0m     \u001b[0;32mif\u001b[0m \u001b[0mn\u001b[0m \u001b[0;34m<\u001b[0m \u001b[0;36m2\u001b[0m\u001b[0;34m:\u001b[0m\u001b[0;34m\u001b[0m\u001b[0;34m\u001b[0m\u001b[0m\n\u001b[0;32m-> 4768\u001b[0;31m         \u001b[0;32mraise\u001b[0m \u001b[0mValueError\u001b[0m\u001b[0;34m(\u001b[0m\u001b[0;34m'x and y must have length at least 2.'\u001b[0m\u001b[0;34m)\u001b[0m\u001b[0;34m\u001b[0m\u001b[0;34m\u001b[0m\u001b[0m\n\u001b[0m\u001b[1;32m   4769\u001b[0m \u001b[0;34m\u001b[0m\u001b[0m\n\u001b[1;32m   4770\u001b[0m     \u001b[0mx\u001b[0m \u001b[0;34m=\u001b[0m \u001b[0mnp\u001b[0m\u001b[0;34m.\u001b[0m\u001b[0masarray\u001b[0m\u001b[0;34m(\u001b[0m\u001b[0mx\u001b[0m\u001b[0;34m)\u001b[0m\u001b[0;34m\u001b[0m\u001b[0;34m\u001b[0m\u001b[0m\n\u001b[1;32m   4771\u001b[0m     \u001b[0my\u001b[0m \u001b[0;34m=\u001b[0m \u001b[0mnp\u001b[0m\u001b[0;34m.\u001b[0m\u001b[0masarray\u001b[0m\u001b[0;34m(\u001b[0m\u001b[0my\u001b[0m\u001b[0;34m)\u001b[0m\u001b[0;34m\u001b[0m\u001b[0;34m\u001b[0m\u001b[0m\n",
      "\u001b[0;31mValueError\u001b[0m: x and y must have length at least 2."
     ]
    }
   ],
   "source": [
    "team_combo_corrs = {\n",
    "    team: dict(sorted({\n",
    "        combo: round(stats.pearsonr(core_fpts[combo[0]], core_fpts[combo[1]])[0],3)\n",
    "        for combo in itertools.combinations(team_cores[team], 2)\n",
    "    }.items(), key=lambda item: item[1], reverse=True))\n",
    "    for team, core_fpts in team_core_fpts.items()\n",
    "}"
   ]
  },
  {
   "cell_type": "code",
   "execution_count": 44,
   "id": "f23f6582-1f3a-4eb9-8e93-3d74ce63db1d",
   "metadata": {},
   "outputs": [
    {
     "ename": "NameError",
     "evalue": "name 'team_combo_corrs' is not defined",
     "output_type": "error",
     "traceback": [
      "\u001b[0;31m---------------------------------------------------------------------------\u001b[0m",
      "\u001b[0;31mNameError\u001b[0m                                 Traceback (most recent call last)",
      "Cell \u001b[0;32mIn[44], line 1\u001b[0m\n\u001b[0;32m----> 1\u001b[0m \u001b[43mteam_combo_corrs\u001b[49m[\u001b[38;5;124m'\u001b[39m\u001b[38;5;124mMIA\u001b[39m\u001b[38;5;124m'\u001b[39m]\n",
      "\u001b[0;31mNameError\u001b[0m: name 'team_combo_corrs' is not defined"
     ]
    }
   ],
   "source": [
    "team_combo_corrs['MIA']"
   ]
  },
  {
   "cell_type": "code",
   "execution_count": 42,
   "id": "b106f751-a092-40b2-beed-7ddd61c59161",
   "metadata": {},
   "outputs": [
    {
     "ename": "NameError",
     "evalue": "name 'team_combo_corrs' is not defined",
     "output_type": "error",
     "traceback": [
      "\u001b[0;31m---------------------------------------------------------------------------\u001b[0m",
      "\u001b[0;31mNameError\u001b[0m                                 Traceback (most recent call last)",
      "Cell \u001b[0;32mIn[42], line 1\u001b[0m\n\u001b[0;32m----> 1\u001b[0m \u001b[43mteam_combo_corrs\u001b[49m[\u001b[38;5;124m'\u001b[39m\u001b[38;5;124mPHI\u001b[39m\u001b[38;5;124m'\u001b[39m]\n",
      "\u001b[0;31mNameError\u001b[0m: name 'team_combo_corrs' is not defined"
     ]
    }
   ],
   "source": [
    "team_combo_corrs['PHI']"
   ]
  },
  {
   "cell_type": "code",
   "execution_count": 43,
   "id": "e797509a-0b90-4960-bbb8-2135a248a25e",
   "metadata": {},
   "outputs": [],
   "source": [
    "agg_stats = ['rush_yds', 'rush_td', 'rec_yds', 'rec_td']\n",
    "teams = ['NE', 'MIA']"
   ]
  },
  {
   "cell_type": "code",
   "execution_count": 29,
   "id": "3a7772c2-49f7-4315-bf7b-dcb3a790a778",
   "metadata": {},
   "outputs": [
    {
     "data": {
      "text/html": [
       "<div>\n",
       "<style scoped>\n",
       "    .dataframe tbody tr th:only-of-type {\n",
       "        vertical-align: middle;\n",
       "    }\n",
       "\n",
       "    .dataframe tbody tr th {\n",
       "        vertical-align: top;\n",
       "    }\n",
       "\n",
       "    .dataframe thead th {\n",
       "        text-align: right;\n",
       "    }\n",
       "</style>\n",
       "<table border=\"1\" class=\"dataframe\">\n",
       "  <thead>\n",
       "    <tr style=\"text-align: right;\">\n",
       "      <th></th>\n",
       "      <th>rush_yds</th>\n",
       "      <th>rush_td</th>\n",
       "      <th>rec_yds</th>\n",
       "      <th>rec_td</th>\n",
       "      <th>total_yds</th>\n",
       "      <th>total_td</th>\n",
       "    </tr>\n",
       "    <tr>\n",
       "      <th>opp</th>\n",
       "      <th></th>\n",
       "      <th></th>\n",
       "      <th></th>\n",
       "      <th></th>\n",
       "      <th></th>\n",
       "      <th></th>\n",
       "    </tr>\n",
       "  </thead>\n",
       "  <tbody>\n",
       "    <tr>\n",
       "      <th>MIA</th>\n",
       "      <td>233</td>\n",
       "      <td>3</td>\n",
       "      <td>229</td>\n",
       "      <td>1</td>\n",
       "      <td>462</td>\n",
       "      <td>4</td>\n",
       "    </tr>\n",
       "    <tr>\n",
       "      <th>NE</th>\n",
       "      <td>97</td>\n",
       "      <td>0</td>\n",
       "      <td>170</td>\n",
       "      <td>1</td>\n",
       "      <td>267</td>\n",
       "      <td>1</td>\n",
       "    </tr>\n",
       "  </tbody>\n",
       "</table>\n",
       "</div>"
      ],
      "text/plain": [
       "     rush_yds  rush_td  rec_yds  rec_td  total_yds  total_td\n",
       "opp                                                         \n",
       "MIA       233        3      229       1        462         4\n",
       "NE         97        0      170       1        267         1"
      ]
     },
     "execution_count": 29,
     "metadata": {},
     "output_type": "execute_result"
    }
   ],
   "source": [
    "agg_df = (df\n",
    "          .groupby('opp')\n",
    "          [agg_stats]\n",
    "          .agg(['sum'])\n",
    "          .reset_index()\n",
    "          .set_axis(['opp'] + agg_stats, axis=1)\n",
    "          .pipe(lambda df_: df_.loc[df_['opp'].isin(teams)])\n",
    "          .set_index('opp')\n",
    "          .assign(\n",
    "              total_yds=lambda df_: df_.rush_yds + df_.rec_yds,\n",
    "              total_td=lambda df_: df_.rush_td + df_.rec_td \n",
    "          )\n",
    "         )\n",
    "agg_df"
   ]
  },
  {
   "cell_type": "code",
   "execution_count": 25,
   "id": "b413eb88-9b6f-4947-914a-69003f1c2fd6",
   "metadata": {},
   "outputs": [],
   "source": [
    "# agg_df.sort_values([\n",
    "#     'fpts',\n",
    "#     # 'total_td',\n",
    "#     # 'total_yds',\n",
    "#     'rec',\n",
    "#     # 'rush_td',\n",
    "#     'rush_yds',\n",
    "# ], ascending=False)"
   ]
  },
  {
   "cell_type": "code",
   "execution_count": null,
   "id": "74585bfe-cd1f-4827-98eb-3a63c70e069d",
   "metadata": {},
   "outputs": [],
   "source": []
  },
  {
   "cell_type": "code",
   "execution_count": null,
   "id": "d5b40279-c666-4e91-9661-dd7b82d36b3b",
   "metadata": {},
   "outputs": [],
   "source": []
  }
 ],
 "metadata": {
  "kernelspec": {
   "display_name": "Python 3 (ipykernel)",
   "language": "python",
   "name": "python3"
  },
  "language_info": {
   "codemirror_mode": {
    "name": "ipython",
    "version": 3
   },
   "file_extension": ".py",
   "mimetype": "text/x-python",
   "name": "python",
   "nbconvert_exporter": "python",
   "pygments_lexer": "ipython3",
   "version": "3.11.3"
  }
 },
 "nbformat": 4,
 "nbformat_minor": 5
}
