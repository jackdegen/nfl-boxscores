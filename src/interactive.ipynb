{
 "cells": [
  {
   "cell_type": "code",
   "execution_count": 1,
   "id": "84b73067-7a33-4bd7-a56c-5fcc133a1a94",
   "metadata": {},
   "outputs": [],
   "source": [
    "from scraper import Scraper as BoxscoreScraper"
   ]
  },
  {
   "cell_type": "code",
   "execution_count": 2,
   "id": "860bb20c-1738-41a7-b322-db3c172e8b22",
   "metadata": {},
   "outputs": [],
   "source": [
    "scraper = BoxscoreScraper(year=2023)"
   ]
  },
  {
   "cell_type": "code",
   "execution_count": 3,
   "id": "187b0177-33fa-4f11-8f39-510a41216ce5",
   "metadata": {},
   "outputs": [
    {
     "name": "stdout",
     "output_type": "stream",
     "text": [
      "Beginning scraping for 2023-2024 season\n",
      "\n"
     ]
    },
    {
     "data": {
      "application/vnd.jupyter.widget-view+json": {
       "model_id": "58c3e5264a7943e1bd8ecb30f0cbb424",
       "version_major": 2,
       "version_minor": 0
      },
      "text/plain": [
       "  0%|          | 0/2 [00:00<?, ?it/s]"
      ]
     },
     "metadata": {},
     "output_type": "display_data"
    },
    {
     "name": "stdout",
     "output_type": "stream",
     "text": [
      "Scraping boxscores for Week 1\n",
      "Succesfully scraped boxscores for Week 1\n",
      "\n",
      "Scraping boxscores for Week 2\n",
      "Succesfully scraped boxscores for Week 2\n",
      "\n"
     ]
    }
   ],
   "source": [
    "scraper.get_season_boxscores()"
   ]
  },
  {
   "cell_type": "code",
   "execution_count": 1,
   "id": "ee6924a4-547f-4d97-87d1-ada3a44b5177",
   "metadata": {},
   "outputs": [],
   "source": [
    "from filing import Filing\n",
    "\n",
    "import pandas as pd\n",
    "class Cleaning:\n",
    "\n",
    "    def __init__(self, **kwargs):\n",
    "        \"\"\"\n",
    "        This class will contain the functionality to combine, clean, wrangle, and partition all the boxscores\n",
    "        \"\"\"\n",
    "\n",
    "        self.year: int = int(kwargs.get('year', 2023))\n",
    "        self.season: str = f'{self.year}-{self.year+1}'\n",
    "\n",
    "        # Initialize filing object\n",
    "        self.filing = Filing(self.season)\n",
    "\n",
    "        # ppr_coeff = 0.5 if kwargs.get('hppr', False) else 1.0      \n",
    "        self.raw: pd.DataFrame = (self.filing.combined()\n",
    "                                  # .assign(fpts=lambda df: 0.04*df.pass_yds + 4.0*df.pass_td - 1.0*df.pass_int + 0.1*df.rush_yds + 6.0*df.rush_td + ppr_coeff*df.rec + 0.1*df.rec_yds + 6.0*df.rec_td - 1.0*df.fumbles_lost)\n",
    "                                 )\n",
    "\n",
    "    def load_team_boxscores(self, team: str) -> pd.DataFrame:\n",
    "        return self.filing.load_boxscores()[team]\n",
    "\n",
    "    def load_team_snapcounts(self, team: str) -> pd.DataFrame:\n",
    "        return self.filing.load_snapcounts()[team]\n",
    "\n",
    "    def load_team_adv_stats(self, team: str, category: str) -> pd.DataFrame:\n",
    "        return self.filing.load_advanced_stats()[category][team]\n",
    "\n"
   ]
  },
  {
   "cell_type": "code",
   "execution_count": 2,
   "id": "abc13c7a-a90a-4784-8262-ed7191809bf2",
   "metadata": {},
   "outputs": [],
   "source": [
    "cleaning = Cleaning(year=2023)"
   ]
  },
  {
   "cell_type": "code",
   "execution_count": 3,
   "id": "3ae70c8e-b4e7-4b48-aa45-6ba0657ac18b",
   "metadata": {},
   "outputs": [],
   "source": [
    "df = cleaning.raw"
   ]
  },
  {
   "cell_type": "code",
   "execution_count": 4,
   "id": "0a9bb058-9752-4036-b019-8506594b235c",
   "metadata": {},
   "outputs": [],
   "source": [
    "df['game-id'] = df[['team', 'opp', 'week']].apply(lambda row: f'{row.iloc[0]}-{row.iloc[1]}-week{row.iloc[2]}' if row.iloc[0] > row.iloc[1] else f'{row.iloc[1]}-{row.iloc[0]}-week{row.iloc[2]}', axis=1)"
   ]
  },
  {
   "cell_type": "code",
   "execution_count": 5,
   "id": "859d604e-012a-42f6-957c-3d9aecc6625e",
   "metadata": {},
   "outputs": [
    {
     "name": "stdout",
     "output_type": "stream",
     "text": [
      "<class 'pandas.core.frame.DataFrame'>\n",
      "RangeIndex: 311 entries, 0 to 310\n",
      "Data columns (total 33 columns):\n",
      " #   Column           Non-Null Count  Dtype  \n",
      "---  ------           --------------  -----  \n",
      " 0   name             311 non-null    object \n",
      " 1   team             311 non-null    object \n",
      " 2   pass_cmp         311 non-null    int64  \n",
      " 3   pass_att         311 non-null    int64  \n",
      " 4   pass_yds         311 non-null    int64  \n",
      " 5   pass_td          311 non-null    int64  \n",
      " 6   pass_int         311 non-null    int64  \n",
      " 7   pass_sacked      311 non-null    int64  \n",
      " 8   pass_sacked_yds  311 non-null    int64  \n",
      " 9   pass_long        311 non-null    int64  \n",
      " 10  pass_rating      311 non-null    float64\n",
      " 11  rush_att         311 non-null    int64  \n",
      " 12  rush_yds         311 non-null    int64  \n",
      " 13  rush_td          311 non-null    int64  \n",
      " 14  rush_long        311 non-null    int64  \n",
      " 15  targets          311 non-null    int64  \n",
      " 16  rec              311 non-null    int64  \n",
      " 17  rec_yds          311 non-null    int64  \n",
      " 18  rec_td           311 non-null    int64  \n",
      " 19  rec_long         311 non-null    int64  \n",
      " 20  fumbles          311 non-null    int64  \n",
      " 21  fumbles_lost     311 non-null    int64  \n",
      " 22  opp              311 non-null    object \n",
      " 23  home             311 non-null    int64  \n",
      " 24  score            311 non-null    int64  \n",
      " 25  opp_score        311 non-null    int64  \n",
      " 26  winner           311 non-null    int64  \n",
      " 27  spread           311 non-null    int64  \n",
      " 28  total            311 non-null    int64  \n",
      " 29  week             311 non-null    int64  \n",
      " 30  pos              311 non-null    object \n",
      " 31  fpts             311 non-null    float64\n",
      " 32  game-id          311 non-null    object \n",
      "dtypes: float64(2), int64(26), object(5)\n",
      "memory usage: 80.3+ KB\n"
     ]
    }
   ],
   "source": [
    "df.info()"
   ]
  },
  {
   "cell_type": "code",
   "execution_count": 6,
   "id": "0ce30b2e-ed4e-4823-96b0-1211cc4faa6a",
   "metadata": {},
   "outputs": [],
   "source": [
    "nyg_boxscores = cleaning.load_team_boxscores('NYG')\n",
    "nyg_snapcounts = cleaning.load_team_snapcounts('NYG')\n",
    "\n",
    "sf_boxscores = cleaning.load_team_boxscores('SF')\n",
    "sf_snapcounts = cleaning.load_team_snapcounts('SF')"
   ]
  },
  {
   "cell_type": "code",
   "execution_count": 7,
   "id": "f113df6e-2cdc-4b2c-a641-d286a905683a",
   "metadata": {},
   "outputs": [],
   "source": [
    "nyg_receiving = cleaning.load_team_adv_stats('NYG', 'receiving')\n",
    "# nyg_snapcounts = cleaning.load_team_snapcounts('NYG')\n",
    "\n",
    "# sf_boxscores = cleaning.load_team_boxscores('SF')\n",
    "# sf_snapcounts = cleaning.load_team_snapcounts('SF')\n",
    "sf_receiving = cleaning.load_team_adv_stats('SF', 'receiving')"
   ]
  },
  {
   "cell_type": "code",
   "execution_count": 8,
   "id": "2902ca50-2ca3-4828-95d4-96bf7c5f0b73",
   "metadata": {},
   "outputs": [],
   "source": [
    "def receiving_stats(team: str, **kwargs):\n",
    "    rec = cleaning.load_team_adv_stats(team, 'receiving')\n",
    "\n",
    "    stats = ['targets', 'rec', 'rec_yds', 'rec_adot'] + kwargs.get('stats', [])\n",
    "\n",
    "    if kwargs.get('raw', False):\n",
    "        return (rec\n",
    "                [['name', 'pos'] + stats]\n",
    "                .sort_values(stats, ascending=False)\n",
    "                .reset_index(drop=True)\n",
    "               )\n",
    "\n",
    "    return (rec\n",
    "            .groupby('name')\n",
    "            [stats]\n",
    "            .agg(['mean'])\n",
    "            .sort_values([('targets', 'mean'), ('rec_adot', 'mean')], ascending=False)\n",
    "           )"
   ]
  },
  {
   "cell_type": "code",
   "execution_count": 9,
   "id": "782a771c-b63d-4ba0-a58c-b987c6a1e63c",
   "metadata": {},
   "outputs": [
    {
     "data": {
      "text/html": [
       "<div>\n",
       "<style scoped>\n",
       "    .dataframe tbody tr th:only-of-type {\n",
       "        vertical-align: middle;\n",
       "    }\n",
       "\n",
       "    .dataframe tbody tr th {\n",
       "        vertical-align: top;\n",
       "    }\n",
       "\n",
       "    .dataframe thead th {\n",
       "        text-align: right;\n",
       "    }\n",
       "</style>\n",
       "<table border=\"1\" class=\"dataframe\">\n",
       "  <thead>\n",
       "    <tr style=\"text-align: right;\">\n",
       "      <th></th>\n",
       "      <th>name</th>\n",
       "      <th>pos</th>\n",
       "      <th>targets</th>\n",
       "      <th>rec</th>\n",
       "      <th>rec_yds</th>\n",
       "      <th>rec_adot</th>\n",
       "    </tr>\n",
       "  </thead>\n",
       "  <tbody>\n",
       "    <tr>\n",
       "      <th>0</th>\n",
       "      <td>Deebo Samuel</td>\n",
       "      <td>WR</td>\n",
       "      <td>9</td>\n",
       "      <td>6</td>\n",
       "      <td>63</td>\n",
       "      <td>6.1</td>\n",
       "    </tr>\n",
       "    <tr>\n",
       "      <th>1</th>\n",
       "      <td>Brandon Aiyuk</td>\n",
       "      <td>WR</td>\n",
       "      <td>8</td>\n",
       "      <td>8</td>\n",
       "      <td>129</td>\n",
       "      <td>13.6</td>\n",
       "    </tr>\n",
       "    <tr>\n",
       "      <th>2</th>\n",
       "      <td>Deebo Samuel</td>\n",
       "      <td>WR</td>\n",
       "      <td>7</td>\n",
       "      <td>5</td>\n",
       "      <td>55</td>\n",
       "      <td>10.4</td>\n",
       "    </tr>\n",
       "    <tr>\n",
       "      <th>3</th>\n",
       "      <td>Brandon Aiyuk</td>\n",
       "      <td>WR</td>\n",
       "      <td>6</td>\n",
       "      <td>3</td>\n",
       "      <td>43</td>\n",
       "      <td>13.5</td>\n",
       "    </tr>\n",
       "    <tr>\n",
       "      <th>4</th>\n",
       "      <td>George Kittle</td>\n",
       "      <td>TE</td>\n",
       "      <td>6</td>\n",
       "      <td>3</td>\n",
       "      <td>19</td>\n",
       "      <td>5.2</td>\n",
       "    </tr>\n",
       "    <tr>\n",
       "      <th>5</th>\n",
       "      <td>Christian McCaffrey</td>\n",
       "      <td>RB</td>\n",
       "      <td>5</td>\n",
       "      <td>3</td>\n",
       "      <td>17</td>\n",
       "      <td>2.4</td>\n",
       "    </tr>\n",
       "    <tr>\n",
       "      <th>6</th>\n",
       "      <td>George Kittle</td>\n",
       "      <td>TE</td>\n",
       "      <td>3</td>\n",
       "      <td>3</td>\n",
       "      <td>30</td>\n",
       "      <td>5.7</td>\n",
       "    </tr>\n",
       "    <tr>\n",
       "      <th>7</th>\n",
       "      <td>Christian McCaffrey</td>\n",
       "      <td>RB</td>\n",
       "      <td>3</td>\n",
       "      <td>3</td>\n",
       "      <td>19</td>\n",
       "      <td>0.3</td>\n",
       "    </tr>\n",
       "    <tr>\n",
       "      <th>8</th>\n",
       "      <td>Jauan Jennings</td>\n",
       "      <td>WR</td>\n",
       "      <td>3</td>\n",
       "      <td>2</td>\n",
       "      <td>51</td>\n",
       "      <td>23.7</td>\n",
       "    </tr>\n",
       "    <tr>\n",
       "      <th>9</th>\n",
       "      <td>Jauan Jennings</td>\n",
       "      <td>WR</td>\n",
       "      <td>1</td>\n",
       "      <td>0</td>\n",
       "      <td>0</td>\n",
       "      <td>13.0</td>\n",
       "    </tr>\n",
       "    <tr>\n",
       "      <th>10</th>\n",
       "      <td>Elijah Mitchell</td>\n",
       "      <td>RB</td>\n",
       "      <td>1</td>\n",
       "      <td>0</td>\n",
       "      <td>0</td>\n",
       "      <td>-8.0</td>\n",
       "    </tr>\n",
       "  </tbody>\n",
       "</table>\n",
       "</div>"
      ],
      "text/plain": [
       "                   name pos  targets  rec  rec_yds  rec_adot\n",
       "0          Deebo Samuel  WR        9    6       63       6.1\n",
       "1         Brandon Aiyuk  WR        8    8      129      13.6\n",
       "2          Deebo Samuel  WR        7    5       55      10.4\n",
       "3         Brandon Aiyuk  WR        6    3       43      13.5\n",
       "4         George Kittle  TE        6    3       19       5.2\n",
       "5   Christian McCaffrey  RB        5    3       17       2.4\n",
       "6         George Kittle  TE        3    3       30       5.7\n",
       "7   Christian McCaffrey  RB        3    3       19       0.3\n",
       "8        Jauan Jennings  WR        3    2       51      23.7\n",
       "9        Jauan Jennings  WR        1    0        0      13.0\n",
       "10      Elijah Mitchell  RB        1    0        0      -8.0"
      ]
     },
     "execution_count": 9,
     "metadata": {},
     "output_type": "execute_result"
    }
   ],
   "source": [
    "receiving_stats('SF', raw=True)"
   ]
  },
  {
   "cell_type": "code",
   "execution_count": 10,
   "id": "390126b8-8146-4536-90f2-95560976f10b",
   "metadata": {},
   "outputs": [],
   "source": [
    "def get_medians(df: pd.DataFrame):\n",
    "\n",
    "    return (df\n",
    "            .groupby('name')\n",
    "            ['snap_percent']\n",
    "            .agg(['mean', 'median'])\n",
    "            .sort_values('median', ascending=False)\n",
    "           )"
   ]
  },
  {
   "cell_type": "code",
   "execution_count": 11,
   "id": "b62f5d76-fb51-48eb-9964-13dabc9cbac5",
   "metadata": {},
   "outputs": [
    {
     "data": {
      "text/html": [
       "<div>\n",
       "<style scoped>\n",
       "    .dataframe tbody tr th:only-of-type {\n",
       "        vertical-align: middle;\n",
       "    }\n",
       "\n",
       "    .dataframe tbody tr th {\n",
       "        vertical-align: top;\n",
       "    }\n",
       "\n",
       "    .dataframe thead th {\n",
       "        text-align: right;\n",
       "    }\n",
       "</style>\n",
       "<table border=\"1\" class=\"dataframe\">\n",
       "  <thead>\n",
       "    <tr style=\"text-align: right;\">\n",
       "      <th></th>\n",
       "      <th>mean</th>\n",
       "      <th>median</th>\n",
       "    </tr>\n",
       "    <tr>\n",
       "      <th>name</th>\n",
       "      <th></th>\n",
       "      <th></th>\n",
       "    </tr>\n",
       "  </thead>\n",
       "  <tbody>\n",
       "    <tr>\n",
       "      <th>Daniel Jones</th>\n",
       "      <td>0.980</td>\n",
       "      <td>0.980</td>\n",
       "    </tr>\n",
       "    <tr>\n",
       "      <th>Saquon Barkley</th>\n",
       "      <td>0.805</td>\n",
       "      <td>0.805</td>\n",
       "    </tr>\n",
       "    <tr>\n",
       "      <th>Darius Slayton</th>\n",
       "      <td>0.745</td>\n",
       "      <td>0.745</td>\n",
       "    </tr>\n",
       "    <tr>\n",
       "      <th>Darren Waller</th>\n",
       "      <td>0.720</td>\n",
       "      <td>0.720</td>\n",
       "    </tr>\n",
       "    <tr>\n",
       "      <th>Isaiah Hodgins</th>\n",
       "      <td>0.675</td>\n",
       "      <td>0.675</td>\n",
       "    </tr>\n",
       "    <tr>\n",
       "      <th>Parris Campbell</th>\n",
       "      <td>0.665</td>\n",
       "      <td>0.665</td>\n",
       "    </tr>\n",
       "    <tr>\n",
       "      <th>Daniel Bellinger</th>\n",
       "      <td>0.520</td>\n",
       "      <td>0.520</td>\n",
       "    </tr>\n",
       "    <tr>\n",
       "      <th>Lawrence Cager</th>\n",
       "      <td>0.290</td>\n",
       "      <td>0.290</td>\n",
       "    </tr>\n",
       "    <tr>\n",
       "      <th>Jalin Hyatt</th>\n",
       "      <td>0.285</td>\n",
       "      <td>0.285</td>\n",
       "    </tr>\n",
       "    <tr>\n",
       "      <th>Sterling Shepard</th>\n",
       "      <td>0.175</td>\n",
       "      <td>0.175</td>\n",
       "    </tr>\n",
       "    <tr>\n",
       "      <th>Matt Breida</th>\n",
       "      <td>0.130</td>\n",
       "      <td>0.130</td>\n",
       "    </tr>\n",
       "    <tr>\n",
       "      <th>Gary Brightwell</th>\n",
       "      <td>0.095</td>\n",
       "      <td>0.095</td>\n",
       "    </tr>\n",
       "    <tr>\n",
       "      <th>Tyrod Taylor</th>\n",
       "      <td>0.040</td>\n",
       "      <td>0.040</td>\n",
       "    </tr>\n",
       "    <tr>\n",
       "      <th>Eric Gray</th>\n",
       "      <td>0.000</td>\n",
       "      <td>0.000</td>\n",
       "    </tr>\n",
       "    <tr>\n",
       "      <th>Taiwan Jones</th>\n",
       "      <td>0.000</td>\n",
       "      <td>0.000</td>\n",
       "    </tr>\n",
       "  </tbody>\n",
       "</table>\n",
       "</div>"
      ],
      "text/plain": [
       "                   mean  median\n",
       "name                           \n",
       "Daniel Jones      0.980   0.980\n",
       "Saquon Barkley    0.805   0.805\n",
       "Darius Slayton    0.745   0.745\n",
       "Darren Waller     0.720   0.720\n",
       "Isaiah Hodgins    0.675   0.675\n",
       "Parris Campbell   0.665   0.665\n",
       "Daniel Bellinger  0.520   0.520\n",
       "Lawrence Cager    0.290   0.290\n",
       "Jalin Hyatt       0.285   0.285\n",
       "Sterling Shepard  0.175   0.175\n",
       "Matt Breida       0.130   0.130\n",
       "Gary Brightwell   0.095   0.095\n",
       "Tyrod Taylor      0.040   0.040\n",
       "Eric Gray         0.000   0.000\n",
       "Taiwan Jones      0.000   0.000"
      ]
     },
     "execution_count": 11,
     "metadata": {},
     "output_type": "execute_result"
    }
   ],
   "source": [
    "# get_medians(nyg_boxscores)\n",
    "get_medians(nyg_snapcounts)\n",
    "# get_medians(nyg_boxscores)\n",
    "# get_medians(sf_snapcounts)"
   ]
  },
  {
   "cell_type": "code",
   "execution_count": 12,
   "id": "ee83fd08-73b1-46b6-94b0-cd9c204ddb02",
   "metadata": {},
   "outputs": [
    {
     "name": "stdout",
     "output_type": "stream",
     "text": [
      "Total games: 16\n"
     ]
    }
   ],
   "source": [
    "games_df: pd.DataFrame = (df\n",
    "                          .drop_duplicates('game-id')\n",
    "                          .loc[:, ['week', 'team', 'opp', 'home', 'score', 'opp_score', 'spread', 'total']]\n",
    "                          .reset_index(drop=True)\n",
    "                         )\n",
    "print(f'Total games: {games_df.shape[0]}')"
   ]
  },
  {
   "cell_type": "code",
   "execution_count": 13,
   "id": "4efdf916-820e-454f-bd8b-5d6f75bcfb95",
   "metadata": {},
   "outputs": [],
   "source": [
    "n_bins = 27"
   ]
  },
  {
   "cell_type": "code",
   "execution_count": 14,
   "id": "48d9ac09-2d62-4b3d-a825-4af994cf4c3f",
   "metadata": {},
   "outputs": [
    {
     "data": {
      "image/png": "[encoded data removed]",
      "text/plain": [
       "<Figure size 1500x500 with 1 Axes>"
      ]
     },
     "metadata": {},
     "output_type": "display_data"
    }
   ],
   "source": [
    "(games_df\n",
    " ['total']\n",
    " .hist(figsize=(15,5), bins=n_bins)\n",
    ");"
   ]
  },
  {
   "cell_type": "code",
   "execution_count": 15,
   "id": "a2601ad3-d416-40a3-8d97-61cfbec90381",
   "metadata": {},
   "outputs": [
    {
     "data": {
      "image/png": "[encoded data removed]",
      "text/plain": [
       "<Figure size 1500x500 with 1 Axes>"
      ]
     },
     "metadata": {},
     "output_type": "display_data"
    }
   ],
   "source": [
    "(games_df\n",
    " ['spread']\n",
    " .hist(figsize=(15,5), bins=n_bins)\n",
    ");"
   ]
  },
  {
   "cell_type": "code",
   "execution_count": 16,
   "id": "418e596b-cd2d-4fb3-9854-70d12e3803b8",
   "metadata": {},
   "outputs": [],
   "source": [
    "# Need to figure out how to classify position depth --> May run into issues with injuries"
   ]
  },
  {
   "cell_type": "code",
   "execution_count": null,
   "id": "9d68f625-a980-4bce-9fa6-0a6e3ca0eb9b",
   "metadata": {},
   "outputs": [],
   "source": []
  },
  {
   "cell_type": "code",
   "execution_count": 17,
   "id": "ecd561e5-c9ab-444b-8f3d-bd2c7f6d7160",
   "metadata": {},
   "outputs": [],
   "source": [
    "import numpy as np\n",
    "import scipy.stats as stats\n",
    "\n",
    "import itertools"
   ]
  },
  {
   "cell_type": "code",
   "execution_count": 32,
   "id": "e8750de6-629b-46bd-bad9-6f79243bdbf9",
   "metadata": {},
   "outputs": [],
   "source": [
    "\n",
    "team_cores = {\n",
    "    'NYG': [\n",
    "        'Daniel Jones',\n",
    "        'Saquon Barkley',\n",
    "        # 'Isaiah Hodgins',\n",
    "        # 'Darius Slayton'\n",
    "        \n",
    "    ],\n",
    "\n",
    "    'SF': [\n",
    "        'Brock Purdy',\n",
    "        'Christian McCaffrey',\n",
    "        'Deebo Samuel',\n",
    "        # 'Brandon Aiyuk',\n",
    "        # 'George Kittle'\n",
    "\n",
    "    ]\n",
    "}\n",
    "team_dfs = {\n",
    "    team: df.loc[(df['team'] == team) & (df['name'].isin(core)) & (df['fpts'] > 0.0)] \n",
    "    for team, core in team_cores.items()\n",
    "}"
   ]
  },
  {
   "cell_type": "code",
   "execution_count": 33,
   "id": "d3326558-e153-4fbd-b510-82a5ce3f3e73",
   "metadata": {},
   "outputs": [],
   "source": [
    "# Get the games core players have played in together\n",
    "# Example: If AJ Brown is missing, DeVonta Smith might have a much better game than usual and will skew results OR\n",
    "# he might have a much worse game since a better corner is most likely guarding him\n",
    "team_core_together_weeks = {\n",
    "    team: tuple(team_df\n",
    "                .groupby('week')\n",
    "                ['week']\n",
    "                .agg(['count'])\n",
    "                .pipe(lambda df_: df_.loc[df_['count'] == len(team_cores[team])])\n",
    "                .index\n",
    "               )\n",
    "    for team, team_df in team_dfs.items()\n",
    "}"
   ]
  },
  {
   "cell_type": "code",
   "execution_count": 34,
   "id": "325a1e08-7ab9-4120-a141-ef790145a2af",
   "metadata": {},
   "outputs": [],
   "source": [
    "team_core_fpts = {\n",
    "    team: {\n",
    "        name: [ (team_df.loc[(team_df['name'] == name) & (team_df['week'] == week ), 'fpts'].item()) for week in team_core_together_weeks[team] ]\n",
    "        for name in team_cores[team]\n",
    "    }\n",
    "\n",
    "    for team, team_df in team_dfs.items()\n",
    "}"
   ]
  },
  {
   "cell_type": "code",
   "execution_count": 35,
   "id": "f7ac0084-8f0f-48c1-8113-6dd90e1bd5ac",
   "metadata": {},
   "outputs": [],
   "source": [
    "agg_stats = ['mean']"
   ]
  },
  {
   "cell_type": "code",
   "execution_count": 36,
   "id": "4610b620-9e4b-4fa9-9cd2-5b52e981c4c3",
   "metadata": {},
   "outputs": [
    {
     "ename": "ValueError",
     "evalue": "x and y must have length at least 2.",
     "output_type": "error",
     "traceback": [
      "\u001b[0;31m---------------------------------------------------------------------------\u001b[0m",
      "\u001b[0;31mValueError\u001b[0m                                Traceback (most recent call last)",
      "\u001b[0;32m/tmp/ipykernel_5439/1855711156.py\u001b[0m in \u001b[0;36m?\u001b[0;34m()\u001b[0m\n\u001b[0;32m----> 1\u001b[0;31m team_combo_corrs = {\n\u001b[0m\u001b[1;32m      2\u001b[0m     team: dict(sorted({\n\u001b[1;32m      3\u001b[0m         \u001b[0mcombo\u001b[0m\u001b[0;34m:\u001b[0m \u001b[0mround\u001b[0m\u001b[0;34m(\u001b[0m\u001b[0mstats\u001b[0m\u001b[0;34m.\u001b[0m\u001b[0mpearsonr\u001b[0m\u001b[0;34m(\u001b[0m\u001b[0mcore_fpts\u001b[0m\u001b[0;34m[\u001b[0m\u001b[0mcombo\u001b[0m\u001b[0;34m[\u001b[0m\u001b[0;36m0\u001b[0m\u001b[0;34m]\u001b[0m\u001b[0;34m]\u001b[0m\u001b[0;34m,\u001b[0m \u001b[0mcore_fpts\u001b[0m\u001b[0;34m[\u001b[0m\u001b[0mcombo\u001b[0m\u001b[0;34m[\u001b[0m\u001b[0;36m1\u001b[0m\u001b[0;34m]\u001b[0m\u001b[0;34m]\u001b[0m\u001b[0;34m)\u001b[0m\u001b[0;34m[\u001b[0m\u001b[0;36m0\u001b[0m\u001b[0;34m]\u001b[0m\u001b[0;34m,\u001b[0m\u001b[0;36m3\u001b[0m\u001b[0;34m)\u001b[0m\u001b[0;34m\u001b[0m\u001b[0;34m\u001b[0m\u001b[0m\n\u001b[1;32m      4\u001b[0m         \u001b[0;32mfor\u001b[0m \u001b[0mcombo\u001b[0m \u001b[0;32min\u001b[0m \u001b[0mitertools\u001b[0m\u001b[0;34m.\u001b[0m\u001b[0mcombinations\u001b[0m\u001b[0;34m(\u001b[0m\u001b[0mteam_cores\u001b[0m\u001b[0;34m[\u001b[0m\u001b[0mteam\u001b[0m\u001b[0;34m]\u001b[0m\u001b[0;34m,\u001b[0m \u001b[0;36m2\u001b[0m\u001b[0;34m)\u001b[0m\u001b[0;34m\u001b[0m\u001b[0;34m\u001b[0m\u001b[0m\n",
      "\u001b[0;32m/tmp/ipykernel_5439/1855711156.py\u001b[0m in \u001b[0;36m?\u001b[0;34m(.0)\u001b[0m\n\u001b[1;32m      1\u001b[0m team_combo_corrs = {\n\u001b[0;32m----> 2\u001b[0;31m     team: dict(sorted({\n\u001b[0m\u001b[1;32m      3\u001b[0m         \u001b[0mcombo\u001b[0m\u001b[0;34m:\u001b[0m \u001b[0mround\u001b[0m\u001b[0;34m(\u001b[0m\u001b[0mstats\u001b[0m\u001b[0;34m.\u001b[0m\u001b[0mpearsonr\u001b[0m\u001b[0;34m(\u001b[0m\u001b[0mcore_fpts\u001b[0m\u001b[0;34m[\u001b[0m\u001b[0mcombo\u001b[0m\u001b[0;34m[\u001b[0m\u001b[0;36m0\u001b[0m\u001b[0;34m]\u001b[0m\u001b[0;34m]\u001b[0m\u001b[0;34m,\u001b[0m \u001b[0mcore_fpts\u001b[0m\u001b[0;34m[\u001b[0m\u001b[0mcombo\u001b[0m\u001b[0;34m[\u001b[0m\u001b[0;36m1\u001b[0m\u001b[0;34m]\u001b[0m\u001b[0;34m]\u001b[0m\u001b[0;34m)\u001b[0m\u001b[0;34m[\u001b[0m\u001b[0;36m0\u001b[0m\u001b[0;34m]\u001b[0m\u001b[0;34m,\u001b[0m\u001b[0;36m3\u001b[0m\u001b[0;34m)\u001b[0m\u001b[0;34m\u001b[0m\u001b[0;34m\u001b[0m\u001b[0m\n\u001b[1;32m      4\u001b[0m         \u001b[0;32mfor\u001b[0m \u001b[0mcombo\u001b[0m \u001b[0;32min\u001b[0m \u001b[0mitertools\u001b[0m\u001b[0;34m.\u001b[0m\u001b[0mcombinations\u001b[0m\u001b[0;34m(\u001b[0m\u001b[0mteam_cores\u001b[0m\u001b[0;34m[\u001b[0m\u001b[0mteam\u001b[0m\u001b[0;34m]\u001b[0m\u001b[0;34m,\u001b[0m \u001b[0;36m2\u001b[0m\u001b[0;34m)\u001b[0m\u001b[0;34m\u001b[0m\u001b[0;34m\u001b[0m\u001b[0m\n\u001b[1;32m      5\u001b[0m     }.items(), key=lambda item: item[1], reverse=True))\n",
      "\u001b[0;32m/tmp/ipykernel_5439/1855711156.py\u001b[0m in \u001b[0;36m?\u001b[0;34m(.0)\u001b[0m\n\u001b[1;32m      2\u001b[0m team_combo_corrs = {\n\u001b[0;32m----> 3\u001b[0;31m     team: dict(sorted({\n\u001b[0m\u001b[1;32m      4\u001b[0m         \u001b[0mcombo\u001b[0m\u001b[0;34m:\u001b[0m \u001b[0mround\u001b[0m\u001b[0;34m(\u001b[0m\u001b[0mstats\u001b[0m\u001b[0;34m.\u001b[0m\u001b[0mpearsonr\u001b[0m\u001b[0;34m(\u001b[0m\u001b[0mcore_fpts\u001b[0m\u001b[0;34m[\u001b[0m\u001b[0mcombo\u001b[0m\u001b[0;34m[\u001b[0m\u001b[0;36m0\u001b[0m\u001b[0;34m]\u001b[0m\u001b[0;34m]\u001b[0m\u001b[0;34m,\u001b[0m \u001b[0mcore_fpts\u001b[0m\u001b[0;34m[\u001b[0m\u001b[0mcombo\u001b[0m\u001b[0;34m[\u001b[0m\u001b[0;36m1\u001b[0m\u001b[0;34m]\u001b[0m\u001b[0;34m]\u001b[0m\u001b[0;34m)\u001b[0m\u001b[0;34m[\u001b[0m\u001b[0;36m0\u001b[0m\u001b[0;34m]\u001b[0m\u001b[0;34m,\u001b[0m\u001b[0;36m3\u001b[0m\u001b[0;34m)\u001b[0m\u001b[0;34m\u001b[0m\u001b[0;34m\u001b[0m\u001b[0m\n\u001b[1;32m      5\u001b[0m         \u001b[0;32mfor\u001b[0m \u001b[0mcombo\u001b[0m \u001b[0;32min\u001b[0m \u001b[0mitertools\u001b[0m\u001b[0;34m.\u001b[0m\u001b[0mcombinations\u001b[0m\u001b[0;34m(\u001b[0m\u001b[0mteam_cores\u001b[0m\u001b[0;34m[\u001b[0m\u001b[0mteam\u001b[0m\u001b[0;34m]\u001b[0m\u001b[0;34m,\u001b[0m \u001b[0;36m2\u001b[0m\u001b[0;34m)\u001b[0m\u001b[0;34m\u001b[0m\u001b[0;34m\u001b[0m\u001b[0m\n\u001b[1;32m      6\u001b[0m     }.items(), key=lambda item: item[1], reverse=True))\n",
      "\u001b[0;32m/usr/lib/python3.11/site-packages/scipy/stats/_stats_py.py\u001b[0m in \u001b[0;36m?\u001b[0;34m(x, y, alternative, method)\u001b[0m\n\u001b[1;32m   4764\u001b[0m     \u001b[0;32mif\u001b[0m \u001b[0mn\u001b[0m \u001b[0;34m!=\u001b[0m \u001b[0mlen\u001b[0m\u001b[0;34m(\u001b[0m\u001b[0my\u001b[0m\u001b[0;34m)\u001b[0m\u001b[0;34m:\u001b[0m\u001b[0;34m\u001b[0m\u001b[0;34m\u001b[0m\u001b[0m\n\u001b[1;32m   4765\u001b[0m         \u001b[0;32mraise\u001b[0m \u001b[0mValueError\u001b[0m\u001b[0;34m(\u001b[0m\u001b[0;34m'x and y must have the same length.'\u001b[0m\u001b[0;34m)\u001b[0m\u001b[0;34m\u001b[0m\u001b[0;34m\u001b[0m\u001b[0m\n\u001b[1;32m   4766\u001b[0m \u001b[0;34m\u001b[0m\u001b[0m\n\u001b[1;32m   4767\u001b[0m     \u001b[0;32mif\u001b[0m \u001b[0mn\u001b[0m \u001b[0;34m<\u001b[0m \u001b[0;36m2\u001b[0m\u001b[0;34m:\u001b[0m\u001b[0;34m\u001b[0m\u001b[0;34m\u001b[0m\u001b[0m\n\u001b[0;32m-> 4768\u001b[0;31m         \u001b[0;32mraise\u001b[0m \u001b[0mValueError\u001b[0m\u001b[0;34m(\u001b[0m\u001b[0;34m'x and y must have length at least 2.'\u001b[0m\u001b[0;34m)\u001b[0m\u001b[0;34m\u001b[0m\u001b[0;34m\u001b[0m\u001b[0m\n\u001b[0m\u001b[1;32m   4769\u001b[0m \u001b[0;34m\u001b[0m\u001b[0m\n\u001b[1;32m   4770\u001b[0m     \u001b[0mx\u001b[0m \u001b[0;34m=\u001b[0m \u001b[0mnp\u001b[0m\u001b[0;34m.\u001b[0m\u001b[0masarray\u001b[0m\u001b[0;34m(\u001b[0m\u001b[0mx\u001b[0m\u001b[0;34m)\u001b[0m\u001b[0;34m\u001b[0m\u001b[0;34m\u001b[0m\u001b[0m\n\u001b[1;32m   4771\u001b[0m     \u001b[0my\u001b[0m \u001b[0;34m=\u001b[0m \u001b[0mnp\u001b[0m\u001b[0;34m.\u001b[0m\u001b[0masarray\u001b[0m\u001b[0;34m(\u001b[0m\u001b[0my\u001b[0m\u001b[0;34m)\u001b[0m\u001b[0;34m\u001b[0m\u001b[0;34m\u001b[0m\u001b[0m\n",
      "\u001b[0;31mValueError\u001b[0m: x and y must have length at least 2."
     ]
    }
   ],
   "source": [
    "team_combo_corrs = {\n",
    "    team: dict(sorted({\n",
    "        combo: round(stats.pearsonr(core_fpts[combo[0]], core_fpts[combo[1]])[0],3)\n",
    "        for combo in itertools.combinations(team_cores[team], 2)\n",
    "    }.items(), key=lambda item: item[1], reverse=True))\n",
    "    for team, core_fpts in team_core_fpts.items()\n",
    "}"
   ]
  },
  {
   "cell_type": "code",
   "execution_count": 37,
   "id": "f23f6582-1f3a-4eb9-8e93-3d74ce63db1d",
   "metadata": {},
   "outputs": [
    {
     "ename": "NameError",
     "evalue": "name 'team_combo_corrs' is not defined",
     "output_type": "error",
     "traceback": [
      "\u001b[0;31m---------------------------------------------------------------------------\u001b[0m",
      "\u001b[0;31mNameError\u001b[0m                                 Traceback (most recent call last)",
      "Cell \u001b[0;32mIn[37], line 1\u001b[0m\n\u001b[0;32m----> 1\u001b[0m \u001b[43mteam_combo_corrs\u001b[49m[\u001b[38;5;124m'\u001b[39m\u001b[38;5;124mNYG\u001b[39m\u001b[38;5;124m'\u001b[39m]\n",
      "\u001b[0;31mNameError\u001b[0m: name 'team_combo_corrs' is not defined"
     ]
    }
   ],
   "source": [
    "team_combo_corrs['NYG']"
   ]
  },
  {
   "cell_type": "code",
   "execution_count": 38,
   "id": "b106f751-a092-40b2-beed-7ddd61c59161",
   "metadata": {},
   "outputs": [
    {
     "ename": "NameError",
     "evalue": "name 'team_combo_corrs' is not defined",
     "output_type": "error",
     "traceback": [
      "\u001b[0;31m---------------------------------------------------------------------------\u001b[0m",
      "\u001b[0;31mNameError\u001b[0m                                 Traceback (most recent call last)",
      "Cell \u001b[0;32mIn[38], line 1\u001b[0m\n\u001b[0;32m----> 1\u001b[0m \u001b[43mteam_combo_corrs\u001b[49m[\u001b[38;5;124m'\u001b[39m\u001b[38;5;124mSF\u001b[39m\u001b[38;5;124m'\u001b[39m]\n",
      "\u001b[0;31mNameError\u001b[0m: name 'team_combo_corrs' is not defined"
     ]
    }
   ],
   "source": [
    "team_combo_corrs['SF']"
   ]
  },
  {
   "cell_type": "code",
   "execution_count": 39,
   "id": "e797509a-0b90-4960-bbb8-2135a248a25e",
   "metadata": {},
   "outputs": [],
   "source": [
    "agg_stats = ['rush_yds', 'rush_td', 'rec_yds', 'rec_td']\n",
    "teams = ['PIT', 'CLE']"
   ]
  },
  {
   "cell_type": "code",
   "execution_count": 40,
   "id": "3a7772c2-49f7-4315-bf7b-dcb3a790a778",
   "metadata": {},
   "outputs": [
    {
     "data": {
      "text/html": [
       "<div>\n",
       "<style scoped>\n",
       "    .dataframe tbody tr th:only-of-type {\n",
       "        vertical-align: middle;\n",
       "    }\n",
       "\n",
       "    .dataframe tbody tr th {\n",
       "        vertical-align: top;\n",
       "    }\n",
       "\n",
       "    .dataframe thead th {\n",
       "        text-align: right;\n",
       "    }\n",
       "</style>\n",
       "<table border=\"1\" class=\"dataframe\">\n",
       "  <thead>\n",
       "    <tr style=\"text-align: right;\">\n",
       "      <th></th>\n",
       "      <th>rush_yds</th>\n",
       "      <th>rush_td</th>\n",
       "      <th>rec_yds</th>\n",
       "      <th>rec_td</th>\n",
       "      <th>total_yds</th>\n",
       "      <th>total_td</th>\n",
       "    </tr>\n",
       "    <tr>\n",
       "      <th>opp</th>\n",
       "      <th></th>\n",
       "      <th></th>\n",
       "      <th></th>\n",
       "      <th></th>\n",
       "      <th></th>\n",
       "      <th></th>\n",
       "    </tr>\n",
       "  </thead>\n",
       "  <tbody>\n",
       "    <tr>\n",
       "      <th>NYG</th>\n",
       "      <td>122</td>\n",
       "      <td>3</td>\n",
       "      <td>143</td>\n",
       "      <td>0</td>\n",
       "      <td>265</td>\n",
       "      <td>3</td>\n",
       "    </tr>\n",
       "    <tr>\n",
       "      <th>SF</th>\n",
       "      <td>41</td>\n",
       "      <td>0</td>\n",
       "      <td>232</td>\n",
       "      <td>1</td>\n",
       "      <td>273</td>\n",
       "      <td>1</td>\n",
       "    </tr>\n",
       "  </tbody>\n",
       "</table>\n",
       "</div>"
      ],
      "text/plain": [
       "     rush_yds  rush_td  rec_yds  rec_td  total_yds  total_td\n",
       "opp                                                         \n",
       "NYG       122        3      143       0        265         3\n",
       "SF         41        0      232       1        273         1"
      ]
     },
     "execution_count": 40,
     "metadata": {},
     "output_type": "execute_result"
    }
   ],
   "source": [
    "agg_df = (df\n",
    "          .groupby('opp')\n",
    "          [agg_stats]\n",
    "          .agg(['sum'])\n",
    "          .reset_index()\n",
    "          .set_axis(['opp'] + agg_stats, axis=1)\n",
    "          .pipe(lambda df_: df_.loc[df_['opp'].isin(['NYG', 'SF'])])\n",
    "          .set_index('opp')\n",
    "          .assign(\n",
    "              total_yds=lambda df_: df_.rush_yds + df_.rec_yds,\n",
    "              total_td=lambda df_: df_.rush_td + df_.rec_td \n",
    "          )\n",
    "         )\n",
    "agg_df"
   ]
  },
  {
   "cell_type": "code",
   "execution_count": 69,
   "id": "b413eb88-9b6f-4947-914a-69003f1c2fd6",
   "metadata": {},
   "outputs": [],
   "source": [
    "# agg_df.sort_values([\n",
    "#     'fpts',\n",
    "#     # 'total_td',\n",
    "#     # 'total_yds',\n",
    "#     'rec',\n",
    "#     # 'rush_td',\n",
    "#     'rush_yds',\n",
    "# ], ascending=False)"
   ]
  },
  {
   "cell_type": "code",
   "execution_count": null,
   "id": "74585bfe-cd1f-4827-98eb-3a63c70e069d",
   "metadata": {},
   "outputs": [],
   "source": []
  },
  {
   "cell_type": "code",
   "execution_count": null,
   "id": "d5b40279-c666-4e91-9661-dd7b82d36b3b",
   "metadata": {},
   "outputs": [],
   "source": []
  }
 ],
 "metadata": {
  "kernelspec": {
   "display_name": "Python 3 (ipykernel)",
   "language": "python",
   "name": "python3"
  },
  "language_info": {
   "codemirror_mode": {
    "name": "ipython",
    "version": 3
   },
   "file_extension": ".py",
   "mimetype": "text/x-python",
   "name": "python",
   "nbconvert_exporter": "python",
   "pygments_lexer": "ipython3",
   "version": "3.11.3"
  }
 },
 "nbformat": 4,
 "nbformat_minor": 5
}
