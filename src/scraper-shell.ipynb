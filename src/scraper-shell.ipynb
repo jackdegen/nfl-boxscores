{
 "cells": [
  {
   "cell_type": "code",
   "execution_count": 1,
   "id": "84b73067-7a33-4bd7-a56c-5fcc133a1a94",
   "metadata": {},
   "outputs": [],
   "source": [
    "from scraper import Scraper as BoxscoreScraper"
   ]
  },
  {
   "cell_type": "code",
   "execution_count": 2,
   "id": "860bb20c-1738-41a7-b322-db3c172e8b22",
   "metadata": {},
   "outputs": [],
   "source": [
    "scraper = BoxscoreScraper(year=2023)"
   ]
  },
  {
   "cell_type": "code",
   "execution_count": 3,
   "id": "187b0177-33fa-4f11-8f39-510a41216ce5",
   "metadata": {},
   "outputs": [
    {
     "name": "stdout",
     "output_type": "stream",
     "text": [
      "Beginning scraping for 2023-2024 season\n",
      "\n"
     ]
    },
    {
     "data": {
      "application/vnd.jupyter.widget-view+json": {
       "model_id": "55653d5a2d444c0bb6e68bc22bc74741",
       "version_major": 2,
       "version_minor": 0
      },
      "text/plain": [
       "  0%|          | 0/1 [00:00<?, ?it/s]"
      ]
     },
     "metadata": {},
     "output_type": "display_data"
    },
    {
     "name": "stdout",
     "output_type": "stream",
     "text": [
      "Scraping boxscores for Week 6\n",
      "Succesfully scraped boxscores for Week 6\n",
      "\n"
     ]
    }
   ],
   "source": [
    "scraper.get_season_boxscores()"
   ]
  },
  {
   "cell_type": "code",
   "execution_count": null,
   "id": "3e168a2f-c4e7-4ed7-a6f8-1f555fc74250",
   "metadata": {},
   "outputs": [],
   "source": []
  }
 ],
 "metadata": {
  "kernelspec": {
   "display_name": "Python 3 (ipykernel)",
   "language": "python",
   "name": "python3"
  },
  "language_info": {
   "codemirror_mode": {
    "name": "ipython",
    "version": 3
   },
   "file_extension": ".py",
   "mimetype": "text/x-python",
   "name": "python",
   "nbconvert_exporter": "python",
   "pygments_lexer": "ipython3",
   "version": "3.11.3"
  }
 },
 "nbformat": 4,
 "nbformat_minor": 5
}
